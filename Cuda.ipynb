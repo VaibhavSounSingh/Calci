{
  "nbformat": 4,
  "nbformat_minor": 0,
  "metadata": {
    "colab": {
      "name": "Cuda.ipynb",
      "private_outputs": true,
      "provenance": [],
      "collapsed_sections": [],
      "authorship_tag": "ABX9TyOrAA+8AueD+r43HqQhvTal",
      "include_colab_link": true
    },
    "kernelspec": {
      "name": "python3",
      "display_name": "Python 3"
    },
    "language_info": {
      "name": "python"
    },
    "accelerator": "GPU"
  },
  "cells": [
    {
      "cell_type": "markdown",
      "metadata": {
        "id": "view-in-github",
        "colab_type": "text"
      },
      "source": [
        "<a href=\"https://colab.research.google.com/github/VaibhavSounSingh/Calci/blob/main/Cuda.ipynb\" target=\"_parent\"><img src=\"https://colab.research.google.com/assets/colab-badge.svg\" alt=\"Open In Colab\"/></a>"
      ]
    },
    {
      "cell_type": "code",
      "source": [
        "!nvcc --version\n"
      ],
      "metadata": {
        "id": "_8uVISL5I3bH"
      },
      "execution_count": null,
      "outputs": []
    },
    {
      "cell_type": "code",
      "source": [
        "!nvcc --version\n"
      ],
      "metadata": {
        "id": "hsZDsYxSeV7P"
      },
      "execution_count": null,
      "outputs": []
    },
    {
      "cell_type": "code",
      "source": [
        ""
      ],
      "metadata": {
        "id": "BLnPG_99ecIX"
      },
      "execution_count": null,
      "outputs": []
    },
    {
      "cell_type": "code",
      "source": [
        "!apt-get --purge remove cuda nvidia* libnvidia-*\n",
        "!dpkg -l | grep cuda- | awk '{print $2}' | xargs -n1 dpkg --purge\n",
        "!apt-get remove cuda-*\n",
        "!apt autoremove\n",
        "!apt-get update"
      ],
      "metadata": {
        "id": "lEOenOhdK_jU"
      },
      "execution_count": null,
      "outputs": []
    },
    {
      "cell_type": "code",
      "source": [
        "!wget https://developer.nvidia.com/compute/cuda/9.2/Prod/local_installers/cuda-repo-ubuntu1604-9-2-local_9.2.88-1_amd64 -O cuda-repo-ubuntu1604-9-2-local_9.2.88-1_amd64.deb\n",
        "!dpkg -i cuda-repo-ubuntu1604-9-2-local_9.2.88-1_amd64.deb\n",
        "!apt-key add /var/cuda-repo-9-2-local/7fa2af80.pub\n",
        "!apt-get update\n",
        "!apt-get install cuda-9.2"
      ],
      "metadata": {
        "id": "HhAVyoAFLqwT"
      },
      "execution_count": null,
      "outputs": []
    },
    {
      "cell_type": "code",
      "source": [
        "!nvcc --version"
      ],
      "metadata": {
        "id": "0oO_ZCZRNHoq"
      },
      "execution_count": null,
      "outputs": []
    },
    {
      "cell_type": "code",
      "source": [
        "!nvcc --version"
      ],
      "metadata": {
        "id": "Pueeibr0eQP4"
      },
      "execution_count": null,
      "outputs": []
    },
    {
      "cell_type": "code",
      "source": [
        "!pip install git+https://github.com/andreinechaev/nvcc4jupyter.git\n"
      ],
      "metadata": {
        "id": "6uzq7OQkNMI3"
      },
      "execution_count": null,
      "outputs": []
    },
    {
      "cell_type": "code",
      "source": [
        "%load_ext nvcc_plugin\n"
      ],
      "metadata": {
        "id": "meXXy3cVOEKe"
      },
      "execution_count": null,
      "outputs": []
    },
    {
      "cell_type": "code",
      "source": [
        "%%cu\n",
        "#include<stdio.h>\n",
        "#include<stdlib.h>\n",
        "\n",
        "__global__ void compute(double *pi)\n",
        "{\n",
        "    double sum1=0,sum2=0,n=100000000;\n",
        "\n",
        "    for(double i=1;i<=n;i+=2)\n",
        "      sum1+=(1/((2*i)-1));\n",
        " \n",
        "    for(double i=2;i<=n;i+=2)\n",
        "      sum2+=(1/((2*i)-1));\n",
        "\n",
        "    *pi=(sum1-sum2)*4;\n",
        "\n",
        "}\n",
        "\n",
        "int main()\n",
        "{\n",
        "    //host variables\n",
        "    double pi;\n",
        "    double size=sizeof(double);\n",
        " \n",
        "    //device variables\n",
        "    double *d_pi;\n",
        " \n",
        "\n",
        "    cudaMalloc((void **)&d_pi,size);\n",
        " \n",
        "    cudaMemcpy(d_pi,&pi,size,cudaMemcpyHostToDevice);\n",
        "    \n",
        "    compute<<<1,1>>>(d_pi);\n",
        " \n",
        "    cudaError err = cudaMemcpy(&pi, d_pi, size, cudaMemcpyDeviceToHost);\n",
        "    if(err!=cudaSuccess) \n",
        "    {\n",
        "      printf(\"CUDA error copying to Host: %s\\n\", cudaGetErrorString(err));\n",
        "    }\n",
        "    printf(\"\\n\\nThe value of Pi is :\\t%lf\",pi);\n",
        "\n",
        "    //Cleanup\n",
        "    cudaFree(d_pi);\n",
        "\n",
        "  return 0;\n",
        "}"
      ],
      "metadata": {
        "id": "Pq8vY1-0OJPt"
      },
      "execution_count": null,
      "outputs": []
    },
    {
      "cell_type": "code",
      "source": [
        "(%load_ext cythonmagic\n"
      ],
      "metadata": {
        "id": "RiL3oOnnfiR1"
      },
      "execution_count": null,
      "outputs": []
    },
    {
      "cell_type": "code",
      "source": [
        ""
      ],
      "metadata": {
        "id": "1bUygm76gBBo"
      },
      "execution_count": null,
      "outputs": []
    }
  ]
}